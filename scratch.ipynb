{
 "cells": [
  {
   "cell_type": "markdown",
   "metadata": {},
   "source": [
    "## Develop the MPC Node\n",
    "\n",
    "### Car Model Definition\n",
    "\n",
    "- This includes dynamics, constraints (like not going through solid objects), and objectives.\n",
    "\n",
    "### MPC Algorithm\n",
    "\n",
    "- It will continuously solve an optimization problem to control the car.\n",
    "\n",
    "### ROS Node Setup\n",
    "\n",
    "- Create a ROS node specifically for MPC. This node should subscribe to sensor data topics (like position, velocity) and publish control commands (like steering angle, throttle).\n",
    "\n",
    "## Simulations / Mocking\n",
    "\n",
    "### Simulation Tool: Gazebo\n",
    "\n",
    "### Integrate with ROS\n",
    "\n",
    "- Ensure Gazebo can communicate with ROS. Feed simulated sensor data to your MPC node and see how it reacts.\n",
    "\n",
    "### Test and Iterate\n",
    "\n",
    "- Run simulation. Watch the virtual car make decisions, and then tweak the model and algorithm as needed.\n",
    "\n",
    "## Demo\n",
    "\n",
    "### Scenario Setup\n",
    "\n",
    "- Create a test scenario to be simulated. Maybe a simple track, or a couple of them.\n",
    "\n",
    "### Run MPC Node\n",
    "\n",
    "- Let the MPC node take control of the car in the simulation. Record the results.\n",
    "\n",
    "### Presentation\n",
    "\n",
    "- This is where we get to say things like, \"As you can see, the car cleverly avoids obstacles\" or \"Oops, let's just ignore that little crash.\""
   ]
  },
  {
   "cell_type": "code",
   "execution_count": null,
   "metadata": {
    "vscode": {
     "languageId": "plaintext"
    }
   },
   "outputs": [],
   "source": [
    "import rospy\n",
    "from control.msg import Action, Pose\n",
    "\n",
    "def launch_sender(path_planning_publisher):\n",
    "    publisher = rospy.Publisher('Control_Publisher', Action)\n",
    "    r = rospy.Rate(DESIRED_NODE_RATE)\n",
    "\n",
    "    mpc = MPC()\n",
    "\n",
    "    while not rospy.is_shutdown():\n",
    "        new_pose = mpc.process_state()\n",
    "\n",
    "if __name__ == '__main__':\n",
    "    try:\n",
    "        launch_sender()\n",
    "    except KeyboardInterrupt | ROSException:\n",
    "        echo \"Quitting...\"\n",
    "\n"
   ]
  }
 ],
 "metadata": {
  "language_info": {
   "name": "python"
  },
  "orig_nbformat": 4
 },
 "nbformat": 4,
 "nbformat_minor": 2
}
