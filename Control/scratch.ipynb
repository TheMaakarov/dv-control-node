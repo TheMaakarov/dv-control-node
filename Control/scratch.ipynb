{
 "cells": [
  {
   "cell_type": "markdown",
   "metadata": {},
   "source": [
    "### 1. Adapt a Python script to work within ROS environment.\n",
    "\n",
    "- We set up another script to contain the logic of communicating ROS with the Control script"
   ]
  },
  {
   "cell_type": "code",
   "execution_count": null,
   "metadata": {
    "vscode": {
     "languageId": "plaintext"
    }
   },
   "outputs": [],
   "source": [
    "import rospy\n",
    "from control.msg import Action, Pose\n",
    "\n",
    "def launch_sender(path_planning_publisher):\n",
    "    publisher = rospy.Publisher('Control_Publisher', Action)\n",
    "    r = rospy.Rate(DESIRED_NODE_RATE)\n",
    "\n",
    "    mpc = MPC()\n",
    "\n",
    "    while not rospy.is_shutdown():\n",
    "        new_pose = mpc.process_state()\n",
    "\n",
    "if __name__ == '__main__':\n",
    "    try:\n",
    "        launch_sender()\n",
    "    except KeyboardInterrupt | ROSException:\n",
    "        echo \"Quitting...\"\n",
    "\n"
   ]
  }
 ],
 "metadata": {
  "language_info": {
   "name": "python"
  },
  "orig_nbformat": 4
 },
 "nbformat": 4,
 "nbformat_minor": 2
}
